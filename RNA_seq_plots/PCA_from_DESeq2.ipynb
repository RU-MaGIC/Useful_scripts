{
 "cells": [
  {
   "cell_type": "code",
   "execution_count": null,
   "metadata": {},
   "outputs": [],
   "source": [
    "import os, csv\n",
    "import rpy2.robjects as robjects\n",
    "import plotly.graph_objects as go\n",
    "import plotly.io\n",
    "\n",
    "plotly.io.orca.config.executable='/usr/local/bin/orca'\n",
    "\n",
    "%load_ext rpy2.ipython"
   ]
  },
  {
   "cell_type": "code",
   "execution_count": null,
   "metadata": {},
   "outputs": [],
   "source": [
    "%%R\n",
    "library(gplots);library(readr);library(ggplot2); library(DESeq2); library(dplyr); library(ggrepel)"
   ]
  },
  {
   "cell_type": "code",
   "execution_count": null,
   "metadata": {},
   "outputs": [],
   "source": [
    "%%R\n",
    "#Trimmed for no nam\n",
    "params <- list(feature_counts='./merged_gene_counts.txt', \n",
    "               annotation='./metadata.csv', \n",
    "               condition='Type')\n",
    "counts <- read.csv(params$feature_counts,\n",
    "                       sep              = \",\",\n",
    "                       header           = TRUE, \n",
    "                       stringsAsFactors = FALSE, \n",
    "                       check.names      = FALSE);\n",
    "rownames(counts) <- counts[,1]\n",
    "counts <- counts[, -c(1:2)]\n",
    "counts <- counts[ , order(names(counts))]\n",
    "sampleTable <- read.csv(params$annotation, row.names = 1)\n",
    "sampleTable <- sampleTable[ order(row.names(sampleTable)), ]\n",
    "countdata <- as.matrix(counts)[, colnames(counts) %in% rownames(sampleTable)]\n",
    "condition <- unlist(sampleTable[params$condition])\n",
    "suppressMessages(library(DESeq2))\n",
    "dds <- DESeqDataSetFromMatrix(countData=countdata, colData=sampleTable, design= as.formula(paste(\"~\", params$condition)))\n",
    "dds <- DESeq(dds)\n",
    "\n",
    "rld <- rlogTransformation(dds)\n",
    "\n",
    "suppressMessages(library(RColorBrewer))\n",
    "(mycols <- brewer.pal(8, \"Dark2\")[1:length(unique(condition))])\n",
    "\n",
    "data <- plotPCA(rld, intgroup=params$condition, returnData=TRUE)\n",
    "rv = rowVars(assay(rld))\n",
    "select = order(rv, decreasing = TRUE)[seq_len(min(500, length(rv)))]\n",
    "pca = prcomp(t(assay(rld)[select, ]))\n",
    "\n",
    "pc1var <- round(summary(pca)$importance[2,1]*100, digits=1)\n",
    "pc2var <- round(summary(pca)$importance[2,2]*100, digits=1)\n",
    "pc1lab <- paste0(\"PC1 (\",as.character(pc1var),\"%)\")\n",
    "pc2lab <- paste0(\"PC1 (\",as.character(pc2var),\"%)\")\n",
    "\n",
    "jpeg('./output.jpg')\n",
    "\n",
    "p1 <- ggplot(data, aes(PC1, PC2))\n",
    "p1 <- p1 + geom_point(aes(color=mycols[condition], shape=mycols[condition]),alpha=0.55,size=5)\n",
    "p1 <- p1 + scale_shape_manual(values=c(15, 17, 19, 18))\n",
    "p1 <- p1 + xlab(pc1lab)\n",
    "p1 <- p1 + ylab(pc2lab)\n",
    "p1 <- p1 + geom_text_repel(aes(label=rownames(data)))\n",
    "p1 <- p1 + theme(legend.position = \"none\")\n",
    "print(p1)\n",
    "dev.off()"
   ]
  }
 ],
 "metadata": {
  "kernelspec": {
   "display_name": "Python 3",
   "language": "python",
   "name": "python3"
  },
  "language_info": {
   "codemirror_mode": {
    "name": "ipython",
    "version": 3
   },
   "file_extension": ".py",
   "mimetype": "text/x-python",
   "name": "python",
   "nbconvert_exporter": "python",
   "pygments_lexer": "ipython3",
   "version": "3.7.6"
  }
 },
 "nbformat": 4,
 "nbformat_minor": 4
}
