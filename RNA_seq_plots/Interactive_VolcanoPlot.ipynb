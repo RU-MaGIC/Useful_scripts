{
 "cells": [
  {
   "cell_type": "code",
   "execution_count": null,
   "metadata": {},
   "outputs": [],
   "source": [
    "import os, csv\n",
    "import rpy2.robjects as robjects\n",
    "import plotly.graph_objects as go\n",
    "import plotly.io\n",
    "%load_ext rpy2.ipython"
   ]
  },
  {
   "cell_type": "code",
   "execution_count": null,
   "metadata": {},
   "outputs": [],
   "source": [
    "%%R\n",
    "library(ggplot2); library(plotly); library(htmlwidgets); library(EnhancedVolcano)"
   ]
  },
  {
   "cell_type": "code",
   "execution_count": null,
   "metadata": {},
   "outputs": [],
   "source": [
    "%%R\n",
    "data <- read.csv(\"./input.csv\", row.names=2)\n",
    "\n",
    "p <- EnhancedVolcano(data,\n",
    "  lab = data[[1]], #Ensemble gene name is row 2, row 1 is the gene symbol in this case\n",
    "  selectLab = c(''),#Can select specific labels if you wish\n",
    "  title = 'Title',\n",
    "  x = 'log2FoldChange',\n",
    "  y = 'padj',\n",
    "  xlim = c(-5,10),\n",
    "  ylim = c(0, 200),\n",
    "  pCutoff = 0.05,\n",
    "  FCcutoff = 1.0,\n",
    "  pointSize = 3.0,\n",
    "  #labSize = 0.01,\n",
    "  #labFace = 'bold',\n",
    "  #drawConnectors = TRUE,\n",
    "  legendPosition = 'bottom',\n",
    "  legendLabels=c('Not sig.','Log (base 2) FC','padj-value',\n",
    "      'padj-value & Log (base 2) FC'),\n",
    "  legendLabSize = 14,\n",
    "  legendIconSize = 5.0)\n",
    "p"
   ]
  },
  {
   "cell_type": "code",
   "execution_count": null,
   "metadata": {},
   "outputs": [],
   "source": [
    "%%R\n",
    "if (!require(\"processx\")) install.packages(\"processx\")\n",
    "fig <- ggplotly(p + aes(x= log2FoldChange, y= -log10(pvalue), label = GeneID))\n",
    "orca(fig, \"plot.svg\")"
   ]
  },
  {
   "cell_type": "code",
   "execution_count": null,
   "metadata": {},
   "outputs": [],
   "source": [
    "%%R\n",
    "htmlwidgets::saveWidget(as.widget(fig), \"index.html\")"
   ]
  }
 ],
 "metadata": {
  "kernelspec": {
   "display_name": "Python 3",
   "language": "python",
   "name": "python3"
  },
  "language_info": {
   "codemirror_mode": {
    "name": "ipython",
    "version": 3
   },
   "file_extension": ".py",
   "mimetype": "text/x-python",
   "name": "python",
   "nbconvert_exporter": "python",
   "pygments_lexer": "ipython3",
   "version": "3.7.6"
  }
 },
 "nbformat": 4,
 "nbformat_minor": 4
}
