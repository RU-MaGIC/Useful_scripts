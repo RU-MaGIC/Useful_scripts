{
 "cells": [
  {
   "cell_type": "code",
   "execution_count": null,
   "metadata": {},
   "outputs": [],
   "source": [
    "import os, csv\n",
    "import rpy2.robjects as robjects\n",
    "import plotly.graph_objects as go\n",
    "import plotly.io\n",
    "\n",
    "plotly.io.orca.config.executable='/usr/local/bin/orca'\n",
    "\n",
    "%load_ext rpy2.ipython"
   ]
  },
  {
   "cell_type": "code",
   "execution_count": null,
   "metadata": {},
   "outputs": [],
   "source": [
    "%%R\n",
    "library(gplots);library(readr);library(ggplot2); library(DESeq2); library(dplyr); library(ggrepel)"
   ]
  },
  {
   "cell_type": "code",
   "execution_count": null,
   "metadata": {},
   "outputs": [],
   "source": [
    "%%R\n",
    "counts <- read.csv('./merged_gene_counts.txt',\n",
    "                           sep              = \",\",\n",
    "                           header           = TRUE, \n",
    "                           stringsAsFactors = FALSE, \n",
    "                           check.names      = FALSE);\n",
    "rownames(counts) <- counts[,1]\n",
    "counts <- counts[, -c(1:2)]\n",
    "counts <- counts[ , order(names(counts))]\n",
    "sampleTable <- read.csv('./metadata.csv', row.names = 1)\n",
    "sampleTable <- sampleTable[ order(row.names(sampleTable)), ]\n",
    "condition <- unlist(sampleTable['Type'])\n",
    "\n",
    "countdata <- as.matrix(counts)[, colnames(counts) %in% rownames(sampleTable)]\n",
    "\n",
    "dds <- DESeqDataSetFromMatrix(countData=countdata, colData=sampleTable, design= as.formula(paste(\"~\", 'Type')))\n",
    "\n",
    "dds <- DESeq(dds)\n",
    "\n",
    "rld <- rlogTransformation(dds)\n",
    "\n",
    "suppressMessages(library(RColorBrewer))\n",
    "(mycols <- brewer.pal(8, \"Dark2\")[1:length(unique(condition))])\n",
    "sampleDists <- as.matrix(dist(t(assay(rld))))\n",
    "\n",
    "jpeg('./output.jpg')\n",
    "heatmap.2(as.matrix(sampleDists), key=F, trace=\"none\",\n",
    "          col=colorpanel(100, \"black\", \"white\"),\n",
    "          ColSideColors=mycols[condition], RowSideColors=mycols[condition],\n",
    "          main=\"Title\",\n",
    "         margins=c(12,12),\n",
    "         srtCol=45,\n",
    "         srtRow=45)\n",
    "dev.off()"
   ]
  }
 ],
 "metadata": {
  "kernelspec": {
   "display_name": "Python 3",
   "language": "python",
   "name": "python3"
  },
  "language_info": {
   "codemirror_mode": {
    "name": "ipython",
    "version": 3
   },
   "file_extension": ".py",
   "mimetype": "text/x-python",
   "name": "python",
   "nbconvert_exporter": "python",
   "pygments_lexer": "ipython3",
   "version": "3.7.6"
  }
 },
 "nbformat": 4,
 "nbformat_minor": 4
}
